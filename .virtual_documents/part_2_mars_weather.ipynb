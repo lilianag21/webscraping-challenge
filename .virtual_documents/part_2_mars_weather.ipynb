


# Import relevant libraries
from splinter import Browser
from bs4 import BeautifulSoup
import matplotlib.pyplot as plt
import pandas as pd


browser = Browser('chrome')





# Visit the website
# https://static.bc-edx.com/data/web/mars_facts/temperature.html
url = "https://static.bc-edx.com/data/web/mars_facts/temperature.html"
browser.visit(url)





# Create a Beautiful Soup Object

html = browser.html
soup = BeautifulSoup(html, 'html.parser')


# Extract all rows of data

rows = soup.find_all('tr', class_="data-row")





# Create an empty list

mars_data = []

# Loop through the scraped data to create a list of rows

for row in rows:
    col_data = row.find_all('td')
    row_data = [col.text.strip() for col in col_data]
    mars_data.append(row_data)


# Create a Pandas DataFrame by using the list of rows and a list of the column names

columns = ["id", "terrestrial_date", "sol", "ls", "month", "min_temp", "pressure"]
mars_df = pd.DataFrame(mars_data, columns=columns)


# Confirm DataFrame was created successfully

mars_df.head()





# Examine data type of each column

print(mars_df.dtypes)


# Change data types for data analysis


mars_df["terrestrial_date"] = pd.to_datetime(mars_df["terrestrial_date"])
mars_df["sol"] = pd.to_numeric(mars_df["sol"])
mars_df["ls"] = pd.to_numeric(mars_df["ls"])
mars_df["month"] = pd.to_numeric(mars_df["month"])
mars_df["min_temp"] = pd.to_numeric(mars_df["min_temp"]).astype('float64')
mars_df["pressure"] = pd.to_numeric(mars_df["pressure"]).astype('float64')


# Confirm type changes were successful by examining data types again

print(mars_df.dtypes)





# 1. How many months are there on Mars?

mars_months = mars_df["month"].nunique()
print(mars_months)


# 2. How many sols (Martian days) worth of data are there?

mars_sols = mars_df["sol"].nunique()
print(mars_sols)


# 3. What is the average minimum temperature by month?

avg_min = mars_df.groupby("month")["min_temp"].mean()
print(avg_min)


# Plot the average minimum temperature by month

plt.figure(figsize=(8,5))
avg_min.plot(kind='bar', color='lightblue', edgecolor='black')
plt.title('Average Minimum Temperature by Month')
plt.xlabel('Month')
plt.ylabel('Temperature in Celsius')


# Identify the coldest and hottest months in Curiosity's location by sorting the previous graph

avg_min_sorted = avg_min.sort_values()
plt.figure(figsize=(8,5))
avg_min_sorted.plot(kind='bar', color='lightblue', edgecolor='black')
plt.title('Average Minimum Temperature by Month')
plt.xlabel('Month')
plt.ylabel('Temperature in Celsius')


# 4. What is the average pressure by month?

avg_pressure = mars_df.groupby("month")["pressure"].mean()
print(avg_pressure)


# Plot the average pressure by month

plt.figure(figsize=(8,5))
avg_pressure.plot(kind='bar', color='lightblue', edgecolor='black')
plt.title('Average Pressure by Month')
plt.xlabel('Month')
plt.ylabel('Atmosphere Pressure')


# Identify the lowest and highest pressure months in Curiosity's location by sorting the previous graph

avg_pressure_sorted = avg_pressure.sort_values()
plt.figure(figsize=(8,5))
avg_pressure_sorted.plot(kind='bar', color='lightblue', edgecolor='black')
plt.title('Average Pressure by Month')
plt.xlabel('Month')
plt.ylabel('Atmospheric Pressure')


# 5. How many terrestrial (Earth) days are there in a Martian year?

mars_terrestrial = (mars_df["terrestrial_date"].max() - mars_df["terrestrial_date"].min()).days

# Visually estimate the result by plotting the daily minimum temperature of each observation in the data set.

plt.figure(figsize=(8, 5))
plt.plot(mars_df["terrestrial_date"], mars_df["min_temp"], color='lightblue', linestyle='-', markersize=3)
plt.title('Minimum Temperature over Time')
plt.xlabel('Number of terrestrial days')
plt.ylabel('Minimum Temperature')
plt.tight_layout()
plt.show()














# Write the data to a CSV

mars_df.to_csv('mars_data.csv', index=False)


browser.quit()
